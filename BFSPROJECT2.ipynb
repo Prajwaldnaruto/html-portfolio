{
  "metadata": {
    "kernelspec": {
      "language": "python",
      "display_name": "Python 3",
      "name": "python3"
    },
    "language_info": {
      "name": "python",
      "version": "3.10.12",
      "mimetype": "text/x-python",
      "codemirror_mode": {
        "name": "ipython",
        "version": 3
      },
      "pygments_lexer": "ipython3",
      "nbconvert_exporter": "python",
      "file_extension": ".py"
    },
    "kaggle": {
      "accelerator": "none",
      "dataSources": [],
      "dockerImageVersionId": 30839,
      "isInternetEnabled": true,
      "language": "python",
      "sourceType": "notebook",
      "isGpuEnabled": false
    },
    "colab": {
      "name": "BFSPROJECT2",
      "provenance": [],
      "include_colab_link": true
    }
  },
  "nbformat_minor": 0,
  "nbformat": 4,
  "cells": [
    {
      "cell_type": "markdown",
      "metadata": {
        "id": "view-in-github",
        "colab_type": "text"
      },
      "source": [
        "<a href=\"https://colab.research.google.com/github/Prajwaldnaruto/html-portfolio/blob/main/BFSPROJECT2.ipynb\" target=\"_parent\"><img src=\"https://colab.research.google.com/assets/colab-badge.svg\" alt=\"Open In Colab\"/></a>"
      ]
    },
    {
      "cell_type": "code",
      "source": [
        "# This Python 3 environment comes with many helpful analytics libraries installed\n",
        "# It is defined by the kaggle/python Docker image: https://github.com/kaggle/docker-python\n",
        "# For example, here's several helpful packages to load\n",
        "\n",
        "import numpy as np # linear algebra\n",
        "import pandas as pd # data processing, CSV file I/O (e.g. pd.read_csv)\n",
        "\n",
        "# Input data files are available in the read-only \"../input/\" directory\n",
        "# For example, running this (by clicking run or pressing Shift+Enter) will list all files under the input directory\n",
        "\n",
        "import os\n",
        "for dirname, _, filenames in os.walk('/kaggle/input'):\n",
        "    for filename in filenames:\n",
        "        print(os.path.join(dirname, filename))\n",
        "\n",
        "# You can write up to 20GB to the current directory (/kaggle/working/) that gets preserved as output when you create a version using \"Save & Run All\"\n",
        "# You can also write temporary files to /kaggle/temp/, but they won't be saved outside of the current session"
      ],
      "metadata": {
        "_uuid": "8f2839f25d086af736a60e9eeb907d3b93b6e0e5",
        "_cell_guid": "b1076dfc-b9ad-4769-8c92-a6c4dae69d19",
        "trusted": true,
        "id": "x-eWKDc7q9xz"
      },
      "outputs": [],
      "execution_count": null
    },
    {
      "cell_type": "code",
      "source": [
        "from collections import deque\n",
        "\n",
        "# Function to perform BFS and suggest friends\n",
        "def suggest_friends(graph, person):\n",
        "    # BFS initialization\n",
        "    queue = deque([person])  # Start from the given person\n",
        "    visited = set()  # To track visited people\n",
        "    visited.add(person)  # Mark the person as visited\n",
        "    suggested_friends = set()  # Set to hold suggested friends\n",
        "\n",
        "    # Perform BFS\n",
        "    while queue:\n",
        "        current = queue.popleft()\n",
        "\n",
        "        # Explore friends of the current person\n",
        "        for friend in graph[current]:\n",
        "            if friend not in visited:  # Avoid revisiting the person or already suggested friends\n",
        "                visited.add(friend)\n",
        "                queue.append(friend)\n",
        "                if friend != person:  # Exclude the starting person\n",
        "                    suggested_friends.add(friend)\n",
        "\n",
        "    return suggested_friends\n",
        "\n",
        "# Example social network graph (adjacency list)\n",
        "social_network = {\n",
        "    \"Alice\": [\"Bob\", \"Charlie\", \"David\"],\n",
        "    \"Bob\": [\"Alice\", \"Charlie\"],\n",
        "    \"Charlie\": [\"Alice\", \"Bob\", \"David\"],\n",
        "    \"David\": [\"Alice\", \"Charlie\"],\n",
        "    \"Eve\": [\"Frank\"],\n",
        "    \"Frank\": [\"Eve\"]\n",
        "}\n",
        "\n",
        "# Example: Suggest friends for Alice\n",
        "person = \"Alice\"\n",
        "suggested_friends = suggest_friends(social_network, person)\n",
        "\n",
        "# Output the result\n",
        "print(f\"Suggested friends for {person}: {suggested_friends}\")\n"
      ],
      "metadata": {
        "trusted": true,
        "execution": {
          "iopub.status.busy": "2025-01-20T17:01:27.65647Z",
          "iopub.execute_input": "2025-01-20T17:01:27.656915Z",
          "iopub.status.idle": "2025-01-20T17:01:27.664932Z",
          "shell.execute_reply.started": "2025-01-20T17:01:27.65689Z",
          "shell.execute_reply": "2025-01-20T17:01:27.664037Z"
        },
        "id": "PvID2emWq9x2",
        "outputId": "656d00eb-c630-41c5-aed2-022fe8e1027c"
      },
      "outputs": [
        {
          "name": "stdout",
          "text": "Suggested friends for Alice: {'David', 'Bob', 'Charlie'}\n",
          "output_type": "stream"
        }
      ],
      "execution_count": null
    }
  ]
}